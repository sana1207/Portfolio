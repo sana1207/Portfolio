{
  "nbformat": 4,
  "nbformat_minor": 0,
  "metadata": {
    "kernelspec": {
      "display_name": "Python 3",
      "language": "python",
      "name": "python3"
    },
    "language_info": {
      "codemirror_mode": {
        "name": "ipython",
        "version": 3
      },
      "file_extension": ".py",
      "mimetype": "text/x-python",
      "name": "python",
      "nbconvert_exporter": "python",
      "pygments_lexer": "ipython3",
      "version": "3.5.2"
    },
    "colab": {
      "name": "Python ML with SkLearn.ipynb",
      "provenance": [],
      "include_colab_link": true
    }
  },
  "cells": [
    {
      "cell_type": "markdown",
      "metadata": {
        "id": "view-in-github",
        "colab_type": "text"
      },
      "source": [
        "<a href=\"https://colab.research.google.com/github/sana1207/Portfolio/blob/main/Python_ML_with_SkLearn.ipynb\" target=\"_parent\"><img src=\"https://colab.research.google.com/assets/colab-badge.svg\" alt=\"Open In Colab\"/></a>"
      ]
    },
    {
      "cell_type": "markdown",
      "metadata": {
        "deletable": true,
        "editable": true,
        "id": "5NKvPJxMcG_g"
      },
      "source": [
        "### Data Class"
      ]
    },
    {
      "cell_type": "code",
      "metadata": {
        "deletable": true,
        "editable": true,
        "id": "feIMdK3gcG_l"
      },
      "source": [
        "import random\n",
        "\n",
        "class Sentiment:\n",
        "    NEGATIVE = \"NEGATIVE\"\n",
        "    NEUTRAL = \"NEUTRAL\"\n",
        "    POSITIVE = \"POSITIVE\"\n",
        "\n",
        "class Review:\n",
        "    def __init__(self, text, score):\n",
        "        self.text =  text\n",
        "        self.score = score\n",
        "        self.sentiment = self.get_sentiment()\n",
        "            \n",
        "    def get_sentiment(self):\n",
        "        if self.score <= 2:\n",
        "            return Sentiment.NEGATIVE\n",
        "        elif self.score == 3:\n",
        "            return Sentiment.NEUTRAL\n",
        "        else:\n",
        "            return Sentiment.POSITIVE\n",
        "        \n",
        "class ReviewContainer:\n",
        "    def __init__(self,reviews):\n",
        "        self.reviews = reviews\n",
        "        \n",
        "    def get_text(self):\n",
        "        return [x.text for x in self.reviews]\n",
        "        \n",
        "    \n",
        "    def get_sentiment(self):\n",
        "        return [x.sentiment for x in self.reviews]\n",
        "    \n",
        "    def evenly_distribute(self):\n",
        "        negative = list(filter(lambda x: x.sentiment == Sentiment.NEGATIVE, self.reviews))\n",
        "        positive = list(filter(lambda x: x.sentiment == Sentiment.POSITIVE, self.reviews))\n",
        "        positive_shrunk = positive[:len(negative)]\n",
        "        self.reviews = negative + positive_shrunk\n",
        "        random.shuffle(self.reviews)\n",
        "        "
      ],
      "execution_count": null,
      "outputs": []
    },
    {
      "cell_type": "markdown",
      "metadata": {
        "deletable": true,
        "editable": true,
        "id": "4NpwK5vUcG_o"
      },
      "source": [
        "### Load Data\n"
      ]
    },
    {
      "cell_type": "code",
      "metadata": {
        "deletable": true,
        "editable": true,
        "id": "bj8X8X7LcG_p",
        "outputId": "c6ac900c-c0e3-4c75-9922-1fa75921ec92"
      },
      "source": [
        "import json\n",
        "\n",
        "file_name = 'd:/Users/Asus/Desktop/DataScience/Books_small.json'\n",
        "\n",
        "reviews = []\n",
        "with open(file_name) as f:\n",
        "    for line in f:\n",
        "        review = json.loads(line)\n",
        "        reviews.append(Review(review['reviewText'], review['overall']))\n",
        "        \n",
        "reviews[5].score\n",
        "reviews[5].text\n",
        "reviews[5].sentiment"
      ],
      "execution_count": null,
      "outputs": [
        {
          "data": {
            "text/plain": [
              "'POSITIVE'"
            ]
          },
          "execution_count": 20,
          "metadata": {},
          "output_type": "execute_result"
        }
      ]
    },
    {
      "cell_type": "code",
      "metadata": {
        "deletable": true,
        "editable": true,
        "id": "BTn_EPiBcG_q",
        "outputId": "f5901334-8e0d-468d-f3f6-4e538bc06a99"
      },
      "source": [
        "import json\n",
        "\n",
        "file_name = 'd:/Users/Asus/Desktop/DataScience/Books_small_10000.json'\n",
        "\n",
        "reviews = []\n",
        "with open(file_name) as f:\n",
        "    for line in f:\n",
        "        review = json.loads(line)\n",
        "        reviews.append(Review(review['reviewText'], review['overall']))\n",
        "\n",
        "reviews[9999].text\n"
      ],
      "execution_count": null,
      "outputs": [
        {
          "data": {
            "text/plain": [
              "\"Highly recommend this entire trilogy. It is very well written and held me in suspense and kept me reading.  Even with the same old young girl heroine who goes head strong and hell bent on saving the new world, id tecommend this book to dystopian fiction fans!  Not overdone, thankfully! A fesw situations made it feel like I've read this same plot before....but these were well thought out and much better written!  This authr has a gift a d I will be looking forward to reading more of ber work.\""
            ]
          },
          "execution_count": 27,
          "metadata": {},
          "output_type": "execute_result"
        }
      ]
    },
    {
      "cell_type": "code",
      "metadata": {
        "deletable": true,
        "editable": true,
        "id": "dAUWeHOhcG_q"
      },
      "source": [
        "\n",
        "# split between test set and training set\n",
        "\n",
        "\n",
        "from sklearn.model_selection import train_test_split\n",
        "\n",
        "training, test = train_test_split(reviews,test_size=0.33, random_state = 42)\n",
        "\n",
        "train_container = ReviewContainer(training)\n",
        "\n",
        "test_container = ReviewContainer(test)\n",
        "\n",
        "\n"
      ],
      "execution_count": null,
      "outputs": []
    },
    {
      "cell_type": "markdown",
      "metadata": {
        "deletable": true,
        "editable": true,
        "id": "AtTwPHYScG_r"
      },
      "source": [
        "### Prep Data"
      ]
    },
    {
      "cell_type": "code",
      "metadata": {
        "deletable": true,
        "editable": true,
        "id": "BclH5DxWcG_r",
        "outputId": "2aab1885-cd79-4dcb-f906-af0704611499"
      },
      "source": [
        "train_container.evenly_distribute()\n",
        "train_x = train_container.get_text()\n",
        "train_y = train_container.get_sentiment()\n",
        "\n",
        "test_container.evenly_distribute()\n",
        "test_x = test_container.get_text()\n",
        "test_y = test_container.get_sentiment() \n",
        "\n",
        "print(train_y.count(Sentiment.POSITIVE))\n",
        "print(train_y.count(Sentiment.NEGATIVE))"
      ],
      "execution_count": null,
      "outputs": [
        {
          "name": "stdout",
          "output_type": "stream",
          "text": [
            "436\n",
            "436\n"
          ]
        }
      ]
    },
    {
      "cell_type": "markdown",
      "metadata": {
        "deletable": true,
        "editable": true,
        "id": "Cv71XEKdcG_s"
      },
      "source": [
        "### Bag of Words Vectorization\n"
      ]
    },
    {
      "cell_type": "code",
      "metadata": {
        "deletable": true,
        "editable": true,
        "id": "nQcp1v3CcG_s",
        "outputId": "3745b83c-8292-47c8-c5f5-d2c9df686641"
      },
      "source": [
        "from sklearn.feature_extraction.text import CountVectorizer, TfidfVectorizer\n",
        "\n",
        "\n",
        "# this book is great\n",
        "# this book was so bad\n",
        "\n",
        "#vectorizer = CountVectorizer()\n",
        "\n",
        "vectorizer = TfidfVectorizer()\n",
        "train_x_vectors = vectorizer.fit_transform(train_x)\n",
        "\n",
        "#fit : vectorizer.fit(train_x)\n",
        "#transform : train_x_vectors = vectorizer.transform(train_x)\n",
        "\n",
        "test_x_vectors=vectorizer.transform(test_x)\n",
        "\n",
        "print(train_x[0])\n",
        "print(train_x_vectors[0].toarray())\n",
        "\n",
        "train_x_vectors\n",
        "train_y"
      ],
      "execution_count": null,
      "outputs": [
        {
          "name": "stdout",
          "output_type": "stream",
          "text": [
            "I got half way through and had to quit.  There was nothing I liked about the book.  Oh, I guess the title isn't bad.\n",
            "[[ 0.  0.  0. ...,  0.  0.  0.]]\n"
          ]
        },
        {
          "data": {
            "text/plain": [
              "['NEGATIVE',\n",
              " 'NEGATIVE',\n",
              " 'NEGATIVE',\n",
              " 'NEGATIVE',\n",
              " 'POSITIVE',\n",
              " 'POSITIVE',\n",
              " 'NEGATIVE',\n",
              " 'POSITIVE',\n",
              " 'NEGATIVE',\n",
              " 'POSITIVE',\n",
              " 'NEGATIVE',\n",
              " 'POSITIVE',\n",
              " 'POSITIVE',\n",
              " 'NEGATIVE',\n",
              " 'NEGATIVE',\n",
              " 'NEGATIVE',\n",
              " 'NEGATIVE',\n",
              " 'NEGATIVE',\n",
              " 'NEGATIVE',\n",
              " 'POSITIVE',\n",
              " 'NEGATIVE',\n",
              " 'POSITIVE',\n",
              " 'NEGATIVE',\n",
              " 'NEGATIVE',\n",
              " 'NEGATIVE',\n",
              " 'POSITIVE',\n",
              " 'NEGATIVE',\n",
              " 'NEGATIVE',\n",
              " 'POSITIVE',\n",
              " 'POSITIVE',\n",
              " 'POSITIVE',\n",
              " 'NEGATIVE',\n",
              " 'NEGATIVE',\n",
              " 'NEGATIVE',\n",
              " 'NEGATIVE',\n",
              " 'NEGATIVE',\n",
              " 'POSITIVE',\n",
              " 'POSITIVE',\n",
              " 'NEGATIVE',\n",
              " 'NEGATIVE',\n",
              " 'POSITIVE',\n",
              " 'NEGATIVE',\n",
              " 'POSITIVE',\n",
              " 'POSITIVE',\n",
              " 'NEGATIVE',\n",
              " 'NEGATIVE',\n",
              " 'NEGATIVE',\n",
              " 'POSITIVE',\n",
              " 'NEGATIVE',\n",
              " 'NEGATIVE',\n",
              " 'NEGATIVE',\n",
              " 'NEGATIVE',\n",
              " 'NEGATIVE',\n",
              " 'POSITIVE',\n",
              " 'NEGATIVE',\n",
              " 'NEGATIVE',\n",
              " 'NEGATIVE',\n",
              " 'POSITIVE',\n",
              " 'NEGATIVE',\n",
              " 'NEGATIVE',\n",
              " 'POSITIVE',\n",
              " 'NEGATIVE',\n",
              " 'NEGATIVE',\n",
              " 'NEGATIVE',\n",
              " 'POSITIVE',\n",
              " 'POSITIVE',\n",
              " 'POSITIVE',\n",
              " 'NEGATIVE',\n",
              " 'POSITIVE',\n",
              " 'POSITIVE',\n",
              " 'POSITIVE',\n",
              " 'POSITIVE',\n",
              " 'POSITIVE',\n",
              " 'POSITIVE',\n",
              " 'POSITIVE',\n",
              " 'POSITIVE',\n",
              " 'POSITIVE',\n",
              " 'NEGATIVE',\n",
              " 'POSITIVE',\n",
              " 'NEGATIVE',\n",
              " 'POSITIVE',\n",
              " 'NEGATIVE',\n",
              " 'NEGATIVE',\n",
              " 'NEGATIVE',\n",
              " 'NEGATIVE',\n",
              " 'NEGATIVE',\n",
              " 'POSITIVE',\n",
              " 'NEGATIVE',\n",
              " 'POSITIVE',\n",
              " 'NEGATIVE',\n",
              " 'POSITIVE',\n",
              " 'NEGATIVE',\n",
              " 'NEGATIVE',\n",
              " 'POSITIVE',\n",
              " 'POSITIVE',\n",
              " 'NEGATIVE',\n",
              " 'POSITIVE',\n",
              " 'NEGATIVE',\n",
              " 'NEGATIVE',\n",
              " 'POSITIVE',\n",
              " 'POSITIVE',\n",
              " 'NEGATIVE',\n",
              " 'POSITIVE',\n",
              " 'NEGATIVE',\n",
              " 'NEGATIVE',\n",
              " 'POSITIVE',\n",
              " 'NEGATIVE',\n",
              " 'POSITIVE',\n",
              " 'NEGATIVE',\n",
              " 'POSITIVE',\n",
              " 'NEGATIVE',\n",
              " 'NEGATIVE',\n",
              " 'NEGATIVE',\n",
              " 'POSITIVE',\n",
              " 'POSITIVE',\n",
              " 'POSITIVE',\n",
              " 'NEGATIVE',\n",
              " 'NEGATIVE',\n",
              " 'NEGATIVE',\n",
              " 'NEGATIVE',\n",
              " 'NEGATIVE',\n",
              " 'NEGATIVE',\n",
              " 'POSITIVE',\n",
              " 'NEGATIVE',\n",
              " 'POSITIVE',\n",
              " 'NEGATIVE',\n",
              " 'POSITIVE',\n",
              " 'NEGATIVE',\n",
              " 'POSITIVE',\n",
              " 'NEGATIVE',\n",
              " 'NEGATIVE',\n",
              " 'NEGATIVE',\n",
              " 'NEGATIVE',\n",
              " 'NEGATIVE',\n",
              " 'POSITIVE',\n",
              " 'POSITIVE',\n",
              " 'NEGATIVE',\n",
              " 'POSITIVE',\n",
              " 'NEGATIVE',\n",
              " 'POSITIVE',\n",
              " 'NEGATIVE',\n",
              " 'POSITIVE',\n",
              " 'NEGATIVE',\n",
              " 'POSITIVE',\n",
              " 'NEGATIVE',\n",
              " 'NEGATIVE',\n",
              " 'POSITIVE',\n",
              " 'NEGATIVE',\n",
              " 'NEGATIVE',\n",
              " 'POSITIVE',\n",
              " 'POSITIVE',\n",
              " 'POSITIVE',\n",
              " 'POSITIVE',\n",
              " 'POSITIVE',\n",
              " 'POSITIVE',\n",
              " 'NEGATIVE',\n",
              " 'NEGATIVE',\n",
              " 'POSITIVE',\n",
              " 'NEGATIVE',\n",
              " 'POSITIVE',\n",
              " 'POSITIVE',\n",
              " 'POSITIVE',\n",
              " 'POSITIVE',\n",
              " 'POSITIVE',\n",
              " 'POSITIVE',\n",
              " 'NEGATIVE',\n",
              " 'POSITIVE',\n",
              " 'POSITIVE',\n",
              " 'NEGATIVE',\n",
              " 'POSITIVE',\n",
              " 'POSITIVE',\n",
              " 'POSITIVE',\n",
              " 'POSITIVE',\n",
              " 'NEGATIVE',\n",
              " 'POSITIVE',\n",
              " 'POSITIVE',\n",
              " 'POSITIVE',\n",
              " 'NEGATIVE',\n",
              " 'NEGATIVE',\n",
              " 'NEGATIVE',\n",
              " 'POSITIVE',\n",
              " 'POSITIVE',\n",
              " 'NEGATIVE',\n",
              " 'NEGATIVE',\n",
              " 'NEGATIVE',\n",
              " 'NEGATIVE',\n",
              " 'NEGATIVE',\n",
              " 'NEGATIVE',\n",
              " 'POSITIVE',\n",
              " 'POSITIVE',\n",
              " 'POSITIVE',\n",
              " 'POSITIVE',\n",
              " 'NEGATIVE',\n",
              " 'POSITIVE',\n",
              " 'POSITIVE',\n",
              " 'POSITIVE',\n",
              " 'POSITIVE',\n",
              " 'NEGATIVE',\n",
              " 'POSITIVE',\n",
              " 'NEGATIVE',\n",
              " 'POSITIVE',\n",
              " 'POSITIVE',\n",
              " 'POSITIVE',\n",
              " 'NEGATIVE',\n",
              " 'POSITIVE',\n",
              " 'NEGATIVE',\n",
              " 'NEGATIVE',\n",
              " 'POSITIVE',\n",
              " 'POSITIVE',\n",
              " 'NEGATIVE',\n",
              " 'NEGATIVE',\n",
              " 'POSITIVE',\n",
              " 'POSITIVE',\n",
              " 'POSITIVE',\n",
              " 'POSITIVE',\n",
              " 'NEGATIVE',\n",
              " 'NEGATIVE',\n",
              " 'NEGATIVE',\n",
              " 'POSITIVE',\n",
              " 'POSITIVE',\n",
              " 'POSITIVE',\n",
              " 'POSITIVE',\n",
              " 'NEGATIVE',\n",
              " 'NEGATIVE',\n",
              " 'NEGATIVE',\n",
              " 'POSITIVE',\n",
              " 'POSITIVE',\n",
              " 'NEGATIVE',\n",
              " 'NEGATIVE',\n",
              " 'POSITIVE',\n",
              " 'POSITIVE',\n",
              " 'POSITIVE',\n",
              " 'POSITIVE',\n",
              " 'NEGATIVE',\n",
              " 'POSITIVE',\n",
              " 'NEGATIVE',\n",
              " 'POSITIVE',\n",
              " 'NEGATIVE',\n",
              " 'POSITIVE',\n",
              " 'POSITIVE',\n",
              " 'NEGATIVE',\n",
              " 'POSITIVE',\n",
              " 'POSITIVE',\n",
              " 'NEGATIVE',\n",
              " 'NEGATIVE',\n",
              " 'POSITIVE',\n",
              " 'POSITIVE',\n",
              " 'NEGATIVE',\n",
              " 'POSITIVE',\n",
              " 'NEGATIVE',\n",
              " 'POSITIVE',\n",
              " 'NEGATIVE',\n",
              " 'NEGATIVE',\n",
              " 'NEGATIVE',\n",
              " 'NEGATIVE',\n",
              " 'NEGATIVE',\n",
              " 'POSITIVE',\n",
              " 'POSITIVE',\n",
              " 'NEGATIVE',\n",
              " 'NEGATIVE',\n",
              " 'NEGATIVE',\n",
              " 'POSITIVE',\n",
              " 'POSITIVE',\n",
              " 'NEGATIVE',\n",
              " 'POSITIVE',\n",
              " 'POSITIVE',\n",
              " 'POSITIVE',\n",
              " 'POSITIVE',\n",
              " 'POSITIVE',\n",
              " 'POSITIVE',\n",
              " 'POSITIVE',\n",
              " 'NEGATIVE',\n",
              " 'NEGATIVE',\n",
              " 'NEGATIVE',\n",
              " 'POSITIVE',\n",
              " 'POSITIVE',\n",
              " 'POSITIVE',\n",
              " 'POSITIVE',\n",
              " 'NEGATIVE',\n",
              " 'POSITIVE',\n",
              " 'NEGATIVE',\n",
              " 'POSITIVE',\n",
              " 'NEGATIVE',\n",
              " 'POSITIVE',\n",
              " 'NEGATIVE',\n",
              " 'NEGATIVE',\n",
              " 'NEGATIVE',\n",
              " 'NEGATIVE',\n",
              " 'NEGATIVE',\n",
              " 'NEGATIVE',\n",
              " 'NEGATIVE',\n",
              " 'POSITIVE',\n",
              " 'NEGATIVE',\n",
              " 'POSITIVE',\n",
              " 'POSITIVE',\n",
              " 'POSITIVE',\n",
              " 'NEGATIVE',\n",
              " 'POSITIVE',\n",
              " 'NEGATIVE',\n",
              " 'NEGATIVE',\n",
              " 'NEGATIVE',\n",
              " 'POSITIVE',\n",
              " 'POSITIVE',\n",
              " 'NEGATIVE',\n",
              " 'POSITIVE',\n",
              " 'POSITIVE',\n",
              " 'NEGATIVE',\n",
              " 'NEGATIVE',\n",
              " 'POSITIVE',\n",
              " 'POSITIVE',\n",
              " 'NEGATIVE',\n",
              " 'POSITIVE',\n",
              " 'POSITIVE',\n",
              " 'POSITIVE',\n",
              " 'NEGATIVE',\n",
              " 'NEGATIVE',\n",
              " 'POSITIVE',\n",
              " 'NEGATIVE',\n",
              " 'POSITIVE',\n",
              " 'POSITIVE',\n",
              " 'POSITIVE',\n",
              " 'POSITIVE',\n",
              " 'NEGATIVE',\n",
              " 'NEGATIVE',\n",
              " 'NEGATIVE',\n",
              " 'NEGATIVE',\n",
              " 'NEGATIVE',\n",
              " 'NEGATIVE',\n",
              " 'POSITIVE',\n",
              " 'NEGATIVE',\n",
              " 'NEGATIVE',\n",
              " 'POSITIVE',\n",
              " 'POSITIVE',\n",
              " 'POSITIVE',\n",
              " 'POSITIVE',\n",
              " 'POSITIVE',\n",
              " 'POSITIVE',\n",
              " 'POSITIVE',\n",
              " 'POSITIVE',\n",
              " 'POSITIVE',\n",
              " 'POSITIVE',\n",
              " 'POSITIVE',\n",
              " 'NEGATIVE',\n",
              " 'NEGATIVE',\n",
              " 'POSITIVE',\n",
              " 'POSITIVE',\n",
              " 'POSITIVE',\n",
              " 'NEGATIVE',\n",
              " 'NEGATIVE',\n",
              " 'POSITIVE',\n",
              " 'NEGATIVE',\n",
              " 'NEGATIVE',\n",
              " 'POSITIVE',\n",
              " 'POSITIVE',\n",
              " 'POSITIVE',\n",
              " 'POSITIVE',\n",
              " 'NEGATIVE',\n",
              " 'NEGATIVE',\n",
              " 'NEGATIVE',\n",
              " 'NEGATIVE',\n",
              " 'NEGATIVE',\n",
              " 'NEGATIVE',\n",
              " 'POSITIVE',\n",
              " 'POSITIVE',\n",
              " 'NEGATIVE',\n",
              " 'POSITIVE',\n",
              " 'POSITIVE',\n",
              " 'POSITIVE',\n",
              " 'POSITIVE',\n",
              " 'POSITIVE',\n",
              " 'NEGATIVE',\n",
              " 'NEGATIVE',\n",
              " 'POSITIVE',\n",
              " 'NEGATIVE',\n",
              " 'POSITIVE',\n",
              " 'NEGATIVE',\n",
              " 'NEGATIVE',\n",
              " 'NEGATIVE',\n",
              " 'POSITIVE',\n",
              " 'POSITIVE',\n",
              " 'NEGATIVE',\n",
              " 'NEGATIVE',\n",
              " 'POSITIVE',\n",
              " 'POSITIVE',\n",
              " 'POSITIVE',\n",
              " 'NEGATIVE',\n",
              " 'NEGATIVE',\n",
              " 'NEGATIVE',\n",
              " 'NEGATIVE',\n",
              " 'POSITIVE',\n",
              " 'POSITIVE',\n",
              " 'POSITIVE',\n",
              " 'POSITIVE',\n",
              " 'POSITIVE',\n",
              " 'POSITIVE',\n",
              " 'NEGATIVE',\n",
              " 'POSITIVE',\n",
              " 'POSITIVE',\n",
              " 'NEGATIVE',\n",
              " 'NEGATIVE',\n",
              " 'NEGATIVE',\n",
              " 'POSITIVE',\n",
              " 'POSITIVE',\n",
              " 'NEGATIVE',\n",
              " 'NEGATIVE',\n",
              " 'POSITIVE',\n",
              " 'NEGATIVE',\n",
              " 'POSITIVE',\n",
              " 'NEGATIVE',\n",
              " 'NEGATIVE',\n",
              " 'POSITIVE',\n",
              " 'POSITIVE',\n",
              " 'POSITIVE',\n",
              " 'NEGATIVE',\n",
              " 'POSITIVE',\n",
              " 'NEGATIVE',\n",
              " 'POSITIVE',\n",
              " 'POSITIVE',\n",
              " 'POSITIVE',\n",
              " 'NEGATIVE',\n",
              " 'POSITIVE',\n",
              " 'NEGATIVE',\n",
              " 'POSITIVE',\n",
              " 'POSITIVE',\n",
              " 'POSITIVE',\n",
              " 'POSITIVE',\n",
              " 'NEGATIVE',\n",
              " 'POSITIVE',\n",
              " 'NEGATIVE',\n",
              " 'POSITIVE',\n",
              " 'NEGATIVE',\n",
              " 'POSITIVE',\n",
              " 'POSITIVE',\n",
              " 'POSITIVE',\n",
              " 'NEGATIVE',\n",
              " 'NEGATIVE',\n",
              " 'NEGATIVE',\n",
              " 'NEGATIVE',\n",
              " 'NEGATIVE',\n",
              " 'NEGATIVE',\n",
              " 'NEGATIVE',\n",
              " 'NEGATIVE',\n",
              " 'NEGATIVE',\n",
              " 'POSITIVE',\n",
              " 'NEGATIVE',\n",
              " 'NEGATIVE',\n",
              " 'POSITIVE',\n",
              " 'POSITIVE',\n",
              " 'NEGATIVE',\n",
              " 'POSITIVE',\n",
              " 'POSITIVE',\n",
              " 'POSITIVE',\n",
              " 'POSITIVE',\n",
              " 'POSITIVE',\n",
              " 'POSITIVE',\n",
              " 'NEGATIVE',\n",
              " 'POSITIVE',\n",
              " 'POSITIVE',\n",
              " 'POSITIVE',\n",
              " 'NEGATIVE',\n",
              " 'NEGATIVE',\n",
              " 'POSITIVE',\n",
              " 'POSITIVE',\n",
              " 'NEGATIVE',\n",
              " 'POSITIVE',\n",
              " 'NEGATIVE',\n",
              " 'NEGATIVE',\n",
              " 'POSITIVE',\n",
              " 'NEGATIVE',\n",
              " 'NEGATIVE',\n",
              " 'POSITIVE',\n",
              " 'POSITIVE',\n",
              " 'POSITIVE',\n",
              " 'NEGATIVE',\n",
              " 'NEGATIVE',\n",
              " 'NEGATIVE',\n",
              " 'POSITIVE',\n",
              " 'POSITIVE',\n",
              " 'NEGATIVE',\n",
              " 'NEGATIVE',\n",
              " 'POSITIVE',\n",
              " 'NEGATIVE',\n",
              " 'POSITIVE',\n",
              " 'NEGATIVE',\n",
              " 'POSITIVE',\n",
              " 'POSITIVE',\n",
              " 'POSITIVE',\n",
              " 'POSITIVE',\n",
              " 'POSITIVE',\n",
              " 'POSITIVE',\n",
              " 'POSITIVE',\n",
              " 'NEGATIVE',\n",
              " 'POSITIVE',\n",
              " 'NEGATIVE',\n",
              " 'NEGATIVE',\n",
              " 'NEGATIVE',\n",
              " 'POSITIVE',\n",
              " 'NEGATIVE',\n",
              " 'NEGATIVE',\n",
              " 'NEGATIVE',\n",
              " 'NEGATIVE',\n",
              " 'POSITIVE',\n",
              " 'POSITIVE',\n",
              " 'POSITIVE',\n",
              " 'NEGATIVE',\n",
              " 'POSITIVE',\n",
              " 'POSITIVE',\n",
              " 'NEGATIVE',\n",
              " 'POSITIVE',\n",
              " 'NEGATIVE',\n",
              " 'POSITIVE',\n",
              " 'NEGATIVE',\n",
              " 'POSITIVE',\n",
              " 'NEGATIVE',\n",
              " 'POSITIVE',\n",
              " 'NEGATIVE',\n",
              " 'NEGATIVE',\n",
              " 'NEGATIVE',\n",
              " 'NEGATIVE',\n",
              " 'POSITIVE',\n",
              " 'NEGATIVE',\n",
              " 'NEGATIVE',\n",
              " 'POSITIVE',\n",
              " 'POSITIVE',\n",
              " 'NEGATIVE',\n",
              " 'NEGATIVE',\n",
              " 'NEGATIVE',\n",
              " 'NEGATIVE',\n",
              " 'POSITIVE',\n",
              " 'NEGATIVE',\n",
              " 'NEGATIVE',\n",
              " 'NEGATIVE',\n",
              " 'POSITIVE',\n",
              " 'NEGATIVE',\n",
              " 'NEGATIVE',\n",
              " 'NEGATIVE',\n",
              " 'POSITIVE',\n",
              " 'POSITIVE',\n",
              " 'NEGATIVE',\n",
              " 'NEGATIVE',\n",
              " 'NEGATIVE',\n",
              " 'NEGATIVE',\n",
              " 'NEGATIVE',\n",
              " 'POSITIVE',\n",
              " 'NEGATIVE',\n",
              " 'NEGATIVE',\n",
              " 'NEGATIVE',\n",
              " 'NEGATIVE',\n",
              " 'NEGATIVE',\n",
              " 'NEGATIVE',\n",
              " 'NEGATIVE',\n",
              " 'NEGATIVE',\n",
              " 'NEGATIVE',\n",
              " 'NEGATIVE',\n",
              " 'POSITIVE',\n",
              " 'NEGATIVE',\n",
              " 'NEGATIVE',\n",
              " 'POSITIVE',\n",
              " 'POSITIVE',\n",
              " 'NEGATIVE',\n",
              " 'NEGATIVE',\n",
              " 'POSITIVE',\n",
              " 'NEGATIVE',\n",
              " 'NEGATIVE',\n",
              " 'NEGATIVE',\n",
              " 'POSITIVE',\n",
              " 'POSITIVE',\n",
              " 'POSITIVE',\n",
              " 'POSITIVE',\n",
              " 'NEGATIVE',\n",
              " 'NEGATIVE',\n",
              " 'NEGATIVE',\n",
              " 'NEGATIVE',\n",
              " 'NEGATIVE',\n",
              " 'POSITIVE',\n",
              " 'POSITIVE',\n",
              " 'POSITIVE',\n",
              " 'POSITIVE',\n",
              " 'POSITIVE',\n",
              " 'NEGATIVE',\n",
              " 'POSITIVE',\n",
              " 'NEGATIVE',\n",
              " 'NEGATIVE',\n",
              " 'POSITIVE',\n",
              " 'POSITIVE',\n",
              " 'POSITIVE',\n",
              " 'NEGATIVE',\n",
              " 'POSITIVE',\n",
              " 'NEGATIVE',\n",
              " 'POSITIVE',\n",
              " 'POSITIVE',\n",
              " 'POSITIVE',\n",
              " 'POSITIVE',\n",
              " 'NEGATIVE',\n",
              " 'NEGATIVE',\n",
              " 'NEGATIVE',\n",
              " 'NEGATIVE',\n",
              " 'NEGATIVE',\n",
              " 'NEGATIVE',\n",
              " 'NEGATIVE',\n",
              " 'NEGATIVE',\n",
              " 'NEGATIVE',\n",
              " 'NEGATIVE',\n",
              " 'POSITIVE',\n",
              " 'NEGATIVE',\n",
              " 'NEGATIVE',\n",
              " 'POSITIVE',\n",
              " 'POSITIVE',\n",
              " 'POSITIVE',\n",
              " 'NEGATIVE',\n",
              " 'POSITIVE',\n",
              " 'NEGATIVE',\n",
              " 'NEGATIVE',\n",
              " 'POSITIVE',\n",
              " 'POSITIVE',\n",
              " 'POSITIVE',\n",
              " 'POSITIVE',\n",
              " 'NEGATIVE',\n",
              " 'POSITIVE',\n",
              " 'POSITIVE',\n",
              " 'POSITIVE',\n",
              " 'POSITIVE',\n",
              " 'NEGATIVE',\n",
              " 'NEGATIVE',\n",
              " 'POSITIVE',\n",
              " 'POSITIVE',\n",
              " 'NEGATIVE',\n",
              " 'POSITIVE',\n",
              " 'POSITIVE',\n",
              " 'NEGATIVE',\n",
              " 'NEGATIVE',\n",
              " 'NEGATIVE',\n",
              " 'POSITIVE',\n",
              " 'NEGATIVE',\n",
              " 'POSITIVE',\n",
              " 'POSITIVE',\n",
              " 'POSITIVE',\n",
              " 'POSITIVE',\n",
              " 'POSITIVE',\n",
              " 'NEGATIVE',\n",
              " 'POSITIVE',\n",
              " 'NEGATIVE',\n",
              " 'POSITIVE',\n",
              " 'NEGATIVE',\n",
              " 'NEGATIVE',\n",
              " 'POSITIVE',\n",
              " 'NEGATIVE',\n",
              " 'NEGATIVE',\n",
              " 'POSITIVE',\n",
              " 'POSITIVE',\n",
              " 'POSITIVE',\n",
              " 'NEGATIVE',\n",
              " 'POSITIVE',\n",
              " 'NEGATIVE',\n",
              " 'NEGATIVE',\n",
              " 'POSITIVE',\n",
              " 'NEGATIVE',\n",
              " 'NEGATIVE',\n",
              " 'NEGATIVE',\n",
              " 'POSITIVE',\n",
              " 'POSITIVE',\n",
              " 'NEGATIVE',\n",
              " 'POSITIVE',\n",
              " 'POSITIVE',\n",
              " 'POSITIVE',\n",
              " 'POSITIVE',\n",
              " 'POSITIVE',\n",
              " 'POSITIVE',\n",
              " 'NEGATIVE',\n",
              " 'POSITIVE',\n",
              " 'POSITIVE',\n",
              " 'NEGATIVE',\n",
              " 'NEGATIVE',\n",
              " 'NEGATIVE',\n",
              " 'POSITIVE',\n",
              " 'POSITIVE',\n",
              " 'NEGATIVE',\n",
              " 'POSITIVE',\n",
              " 'NEGATIVE',\n",
              " 'NEGATIVE',\n",
              " 'NEGATIVE',\n",
              " 'NEGATIVE',\n",
              " 'NEGATIVE',\n",
              " 'NEGATIVE',\n",
              " 'POSITIVE',\n",
              " 'POSITIVE',\n",
              " 'POSITIVE',\n",
              " 'NEGATIVE',\n",
              " 'POSITIVE',\n",
              " 'NEGATIVE',\n",
              " 'POSITIVE',\n",
              " 'NEGATIVE',\n",
              " 'POSITIVE',\n",
              " 'NEGATIVE',\n",
              " 'POSITIVE',\n",
              " 'NEGATIVE',\n",
              " 'NEGATIVE',\n",
              " 'NEGATIVE',\n",
              " 'POSITIVE',\n",
              " 'NEGATIVE',\n",
              " 'NEGATIVE',\n",
              " 'NEGATIVE',\n",
              " 'POSITIVE',\n",
              " 'POSITIVE',\n",
              " 'NEGATIVE',\n",
              " 'NEGATIVE',\n",
              " 'NEGATIVE',\n",
              " 'POSITIVE',\n",
              " 'POSITIVE',\n",
              " 'POSITIVE',\n",
              " 'NEGATIVE',\n",
              " 'NEGATIVE',\n",
              " 'POSITIVE',\n",
              " 'NEGATIVE',\n",
              " 'POSITIVE',\n",
              " 'POSITIVE',\n",
              " 'POSITIVE',\n",
              " 'POSITIVE',\n",
              " 'NEGATIVE',\n",
              " 'POSITIVE',\n",
              " 'NEGATIVE',\n",
              " 'NEGATIVE',\n",
              " 'NEGATIVE',\n",
              " 'POSITIVE',\n",
              " 'NEGATIVE',\n",
              " 'POSITIVE',\n",
              " 'POSITIVE',\n",
              " 'NEGATIVE',\n",
              " 'POSITIVE',\n",
              " 'NEGATIVE',\n",
              " 'NEGATIVE',\n",
              " 'POSITIVE',\n",
              " 'POSITIVE',\n",
              " 'POSITIVE',\n",
              " 'NEGATIVE',\n",
              " 'NEGATIVE',\n",
              " 'POSITIVE',\n",
              " 'NEGATIVE',\n",
              " 'POSITIVE',\n",
              " 'POSITIVE',\n",
              " 'POSITIVE',\n",
              " 'POSITIVE',\n",
              " 'POSITIVE',\n",
              " 'NEGATIVE',\n",
              " 'NEGATIVE',\n",
              " 'NEGATIVE',\n",
              " 'POSITIVE',\n",
              " 'POSITIVE',\n",
              " 'POSITIVE',\n",
              " 'NEGATIVE',\n",
              " 'NEGATIVE',\n",
              " 'POSITIVE',\n",
              " 'NEGATIVE',\n",
              " 'NEGATIVE',\n",
              " 'NEGATIVE',\n",
              " 'POSITIVE',\n",
              " 'POSITIVE',\n",
              " 'NEGATIVE',\n",
              " 'POSITIVE',\n",
              " 'NEGATIVE',\n",
              " 'NEGATIVE',\n",
              " 'POSITIVE',\n",
              " 'POSITIVE',\n",
              " 'NEGATIVE',\n",
              " 'NEGATIVE',\n",
              " 'NEGATIVE',\n",
              " 'NEGATIVE',\n",
              " 'POSITIVE',\n",
              " 'POSITIVE',\n",
              " 'POSITIVE',\n",
              " 'POSITIVE',\n",
              " 'POSITIVE',\n",
              " 'NEGATIVE',\n",
              " 'NEGATIVE',\n",
              " 'NEGATIVE',\n",
              " 'NEGATIVE',\n",
              " 'POSITIVE',\n",
              " 'NEGATIVE',\n",
              " 'NEGATIVE',\n",
              " 'NEGATIVE',\n",
              " 'POSITIVE',\n",
              " 'POSITIVE',\n",
              " 'POSITIVE',\n",
              " 'POSITIVE',\n",
              " 'POSITIVE',\n",
              " 'NEGATIVE',\n",
              " 'POSITIVE',\n",
              " 'NEGATIVE',\n",
              " 'POSITIVE',\n",
              " 'NEGATIVE',\n",
              " 'POSITIVE',\n",
              " 'NEGATIVE',\n",
              " 'NEGATIVE',\n",
              " 'POSITIVE',\n",
              " 'NEGATIVE',\n",
              " 'POSITIVE',\n",
              " 'POSITIVE',\n",
              " 'POSITIVE',\n",
              " 'NEGATIVE',\n",
              " 'NEGATIVE',\n",
              " 'NEGATIVE',\n",
              " 'NEGATIVE',\n",
              " 'NEGATIVE',\n",
              " 'POSITIVE',\n",
              " 'POSITIVE',\n",
              " 'NEGATIVE',\n",
              " 'POSITIVE',\n",
              " 'POSITIVE',\n",
              " 'POSITIVE',\n",
              " 'NEGATIVE',\n",
              " 'POSITIVE',\n",
              " 'POSITIVE',\n",
              " 'NEGATIVE',\n",
              " 'NEGATIVE',\n",
              " 'NEGATIVE',\n",
              " 'NEGATIVE',\n",
              " 'POSITIVE',\n",
              " 'NEGATIVE',\n",
              " 'POSITIVE',\n",
              " 'POSITIVE',\n",
              " 'NEGATIVE',\n",
              " 'NEGATIVE',\n",
              " 'NEGATIVE',\n",
              " 'POSITIVE',\n",
              " 'NEGATIVE',\n",
              " 'NEGATIVE',\n",
              " 'POSITIVE',\n",
              " 'POSITIVE',\n",
              " 'NEGATIVE',\n",
              " 'POSITIVE',\n",
              " 'NEGATIVE',\n",
              " 'NEGATIVE',\n",
              " 'NEGATIVE',\n",
              " 'POSITIVE',\n",
              " 'POSITIVE',\n",
              " 'POSITIVE',\n",
              " 'POSITIVE',\n",
              " 'NEGATIVE',\n",
              " 'POSITIVE',\n",
              " 'POSITIVE',\n",
              " 'POSITIVE',\n",
              " 'POSITIVE',\n",
              " 'NEGATIVE',\n",
              " 'NEGATIVE',\n",
              " 'NEGATIVE',\n",
              " 'POSITIVE',\n",
              " 'NEGATIVE',\n",
              " 'NEGATIVE',\n",
              " 'NEGATIVE',\n",
              " 'POSITIVE',\n",
              " 'POSITIVE',\n",
              " 'POSITIVE',\n",
              " 'NEGATIVE',\n",
              " 'POSITIVE',\n",
              " 'POSITIVE',\n",
              " 'POSITIVE',\n",
              " 'POSITIVE',\n",
              " 'NEGATIVE',\n",
              " 'POSITIVE',\n",
              " 'POSITIVE',\n",
              " 'POSITIVE',\n",
              " 'NEGATIVE',\n",
              " 'POSITIVE',\n",
              " 'NEGATIVE',\n",
              " 'NEGATIVE',\n",
              " 'POSITIVE',\n",
              " 'NEGATIVE',\n",
              " 'NEGATIVE',\n",
              " 'NEGATIVE',\n",
              " 'POSITIVE',\n",
              " 'POSITIVE',\n",
              " 'POSITIVE']"
            ]
          },
          "execution_count": 31,
          "metadata": {},
          "output_type": "execute_result"
        }
      ]
    },
    {
      "cell_type": "markdown",
      "metadata": {
        "deletable": true,
        "editable": true,
        "id": "lZEPZTKicG_t"
      },
      "source": [
        "## Classification\n",
        "\n",
        "### Linear SVM"
      ]
    },
    {
      "cell_type": "code",
      "metadata": {
        "deletable": true,
        "editable": true,
        "id": "VfNKo2eZcG_t",
        "outputId": "faffc83a-098f-4095-8371-af28af08dbb2"
      },
      "source": [
        "from sklearn import svm\n",
        "\n",
        "clf_svm = svm.SVC(kernel='linear')\n",
        "clf_svm.fit(train_x_vectors, train_y)\n",
        "test_x[0]\n",
        "clf_svm.predict(test_x_vectors[0])"
      ],
      "execution_count": null,
      "outputs": [
        {
          "data": {
            "text/plain": [
              "array(['NEGATIVE'],\n",
              "      dtype='<U8')"
            ]
          },
          "execution_count": 36,
          "metadata": {},
          "output_type": "execute_result"
        }
      ]
    },
    {
      "cell_type": "markdown",
      "metadata": {
        "deletable": true,
        "editable": true,
        "id": "tCn-oXgTcG_u"
      },
      "source": [
        "### Decision Tree"
      ]
    },
    {
      "cell_type": "code",
      "metadata": {
        "deletable": true,
        "editable": true,
        "id": "9dGzgtPXcG_u",
        "outputId": "accce46a-3435-42d2-bf6c-7c25ab8919ee"
      },
      "source": [
        "from sklearn.tree import DecisionTreeClassifier\n",
        "\n",
        "clf_dec = DecisionTreeClassifier()\n",
        "clf_dec.fit(train_x_vectors, train_y)\n",
        "clf_dec.predict(test_x_vectors[0])"
      ],
      "execution_count": null,
      "outputs": [
        {
          "data": {
            "text/plain": [
              "array(['NEGATIVE'],\n",
              "      dtype='<U8')"
            ]
          },
          "execution_count": 32,
          "metadata": {},
          "output_type": "execute_result"
        }
      ]
    },
    {
      "cell_type": "markdown",
      "metadata": {
        "deletable": true,
        "editable": true,
        "id": "ek9JBMSzcG_u"
      },
      "source": [
        "### Naive Bayes"
      ]
    },
    {
      "cell_type": "code",
      "metadata": {
        "deletable": true,
        "editable": true,
        "id": "fCXq6bATcG_v",
        "outputId": "ec2410f2-d30a-4974-8ca3-d3f93d502cf9"
      },
      "source": [
        "from sklearn.naive_bayes import GaussianNB\n",
        "\n",
        "\n",
        "clf_gnb = DecisionTreeClassifier()\n",
        "clf_gnb.fit(train_x_vectors, train_y)\n",
        "clf_gnb.predict(test_x_vectors[0])\n"
      ],
      "execution_count": null,
      "outputs": [
        {
          "data": {
            "text/plain": [
              "array(['NEGATIVE'],\n",
              "      dtype='<U8')"
            ]
          },
          "execution_count": 33,
          "metadata": {},
          "output_type": "execute_result"
        }
      ]
    },
    {
      "cell_type": "markdown",
      "metadata": {
        "deletable": true,
        "editable": true,
        "id": "wbDjAJIgcG_w"
      },
      "source": [
        "### Logistic Regression"
      ]
    },
    {
      "cell_type": "code",
      "metadata": {
        "deletable": true,
        "editable": true,
        "id": "sntZYsj4cG_w",
        "outputId": "a8891ea4-2569-4110-f4d6-94e5c2785025"
      },
      "source": [
        "from sklearn.linear_model import LogisticRegression\n",
        "\n",
        "\n",
        "clf_log = LogisticRegression()\n",
        "clf_log.fit(train_x_vectors, train_y)\n",
        "clf_log.predict(test_x_vectors[0])"
      ],
      "execution_count": null,
      "outputs": [
        {
          "data": {
            "text/plain": [
              "array(['NEGATIVE'],\n",
              "      dtype='<U8')"
            ]
          },
          "execution_count": 34,
          "metadata": {},
          "output_type": "execute_result"
        }
      ]
    },
    {
      "cell_type": "markdown",
      "metadata": {
        "deletable": true,
        "editable": true,
        "id": "qUaHKD6_cG_x"
      },
      "source": [
        "# Evaluation\n",
        "\n",
        "### Mean Accuracy"
      ]
    },
    {
      "cell_type": "code",
      "metadata": {
        "deletable": true,
        "editable": true,
        "id": "s8l7ZzBfcG_x",
        "outputId": "22338f2d-2b72-4371-d8b2-778a024602ae"
      },
      "source": [
        "print(clf_svm.score(test_x_vectors,test_y))\n",
        "print(clf_dec.score(test_x_vectors,test_y))\n",
        "print(clf_gnb.score(test_x_vectors,test_y))\n",
        "print(clf_log.score(test_x_vectors,test_y))"
      ],
      "execution_count": null,
      "outputs": [
        {
          "name": "stdout",
          "output_type": "stream",
          "text": [
            "0.807692307692\n",
            "0.644230769231\n",
            "0.634615384615\n",
            "0.802884615385\n"
          ]
        }
      ]
    },
    {
      "cell_type": "markdown",
      "metadata": {
        "deletable": true,
        "editable": true,
        "id": "o4igY6tmcG_y"
      },
      "source": [
        "### F1_score"
      ]
    },
    {
      "cell_type": "code",
      "metadata": {
        "deletable": true,
        "editable": true,
        "id": "VsUT9zaicG_y",
        "outputId": "0d9618bb-7fab-4bbc-a0b3-d599e5ac2c63"
      },
      "source": [
        "from sklearn.metrics import f1_score\n",
        "f1_score(test_y, clf_svm.predict(test_x_vectors), average = None, labels= [Sentiment.POSITIVE,Sentiment.NEGATIVE])\n",
        "\n",
        "#f1_score(test_y, clf_dec.predict(test_x_vectors), average = None, labels= [Sentiment.POSITIVE,Sentiment.NEUTRAL,Sentiment.NEGATIVE])\n",
        "#f1_score(test_y, clf_gnb.predict(test_x_vectors), average = None, labels= [Sentiment.POSITIVE,Sentiment.NEUTRAL,Sentiment.NEGATIVE])\n",
        "#f1_score(test_y, clf_log.predict(test_x_vectors), average = None, labels= [Sentiment.POSITIVE,Sentiment.NEUTRAL,Sentiment.NEGATIVE])"
      ],
      "execution_count": null,
      "outputs": [
        {
          "data": {
            "text/plain": [
              "array([ 0.80582524,  0.80952381])"
            ]
          },
          "execution_count": 38,
          "metadata": {},
          "output_type": "execute_result"
        }
      ]
    },
    {
      "cell_type": "code",
      "metadata": {
        "deletable": true,
        "editable": true,
        "id": "VVPGVASjcG_z",
        "outputId": "e218f934-548c-4913-d14c-4146823d7628"
      },
      "source": [
        "test_y.count(Sentiment.POSITIVE)"
      ],
      "execution_count": null,
      "outputs": [
        {
          "data": {
            "text/plain": [
              "2767"
            ]
          },
          "execution_count": 39,
          "metadata": {},
          "output_type": "execute_result"
        }
      ]
    },
    {
      "cell_type": "code",
      "metadata": {
        "deletable": true,
        "editable": true,
        "id": "lrZJWpWucG_0",
        "outputId": "33badbcb-a148-4d17-f63c-2b8d3a90e8ae"
      },
      "source": [
        "test_y.count(Sentiment.NEGATIVE)"
      ],
      "execution_count": null,
      "outputs": [
        {
          "data": {
            "text/plain": [
              "208"
            ]
          },
          "execution_count": 40,
          "metadata": {},
          "output_type": "execute_result"
        }
      ]
    },
    {
      "cell_type": "code",
      "metadata": {
        "deletable": true,
        "editable": true,
        "id": "HwRjoOyAcG_0",
        "outputId": "fcaae477-1600-447c-ab4c-c5d17691bd84"
      },
      "source": [
        "test_y.count(Sentiment.POSITIVE)"
      ],
      "execution_count": null,
      "outputs": [
        {
          "data": {
            "text/plain": [
              "208"
            ]
          },
          "execution_count": 43,
          "metadata": {},
          "output_type": "execute_result"
        }
      ]
    },
    {
      "cell_type": "code",
      "metadata": {
        "deletable": true,
        "editable": true,
        "id": "oZdZlOW_cG_0",
        "outputId": "012c8c6f-63aa-4983-abc6-72a6b0a9ff12"
      },
      "source": [
        "test_y.count(Sentiment.NEGATIVE)"
      ],
      "execution_count": null,
      "outputs": [
        {
          "data": {
            "text/plain": [
              "208"
            ]
          },
          "execution_count": 44,
          "metadata": {},
          "output_type": "execute_result"
        }
      ]
    },
    {
      "cell_type": "code",
      "metadata": {
        "deletable": true,
        "editable": true,
        "id": "JyzwXbDecG_1",
        "outputId": "7422efb3-f14c-4ccd-8e59-5b221d6bef8f"
      },
      "source": [
        "test_set = ['I throughly enjoyed this, 5 stars','bad book do not buy','horrible waste of time']\n",
        "new_test = vectorizer.transform(test_set)\n",
        "\n",
        "clf_svm.predict(new_test)"
      ],
      "execution_count": null,
      "outputs": [
        {
          "data": {
            "text/plain": [
              "array(['POSITIVE', 'NEGATIVE', 'NEGATIVE'],\n",
              "      dtype='<U8')"
            ]
          },
          "execution_count": 82,
          "metadata": {},
          "output_type": "execute_result"
        }
      ]
    },
    {
      "cell_type": "code",
      "metadata": {
        "deletable": true,
        "editable": true,
        "id": "AUI4v42lcG_1",
        "outputId": "31f627cd-b253-48bc-b40c-8b034e923414"
      },
      "source": [
        "test_set = ['not great','bad book do not buy','horrible waste of time']\n",
        "new_test = vectorizer.transform(test_set)\n",
        "\n",
        "clf_svm.predict(new_test)"
      ],
      "execution_count": null,
      "outputs": [
        {
          "data": {
            "text/plain": [
              "array(['NEGATIVE', 'NEGATIVE', 'NEGATIVE'],\n",
              "      dtype='<U8')"
            ]
          },
          "execution_count": 83,
          "metadata": {},
          "output_type": "execute_result"
        }
      ]
    },
    {
      "cell_type": "code",
      "metadata": {
        "deletable": true,
        "editable": true,
        "id": "5GD_LpVecG_5",
        "outputId": "0e21a49f-3a0d-4507-df03-1ef89460e346"
      },
      "source": [
        "test_set = ['a time passer','bad book do not buy','horrible waste of time']\n",
        "new_test = vectorizer.transform(test_set)\n",
        "\n",
        "clf_svm.predict(new_test)"
      ],
      "execution_count": null,
      "outputs": [
        {
          "data": {
            "text/plain": [
              "array(['POSITIVE', 'NEGATIVE', 'NEGATIVE'],\n",
              "      dtype='<U8')"
            ]
          },
          "execution_count": 84,
          "metadata": {},
          "output_type": "execute_result"
        }
      ]
    },
    {
      "cell_type": "markdown",
      "metadata": {
        "deletable": true,
        "editable": true,
        "id": "VhlbcTVwcG_5"
      },
      "source": [
        "### Saving Model\n",
        "\n",
        "#### Save Model "
      ]
    },
    {
      "cell_type": "code",
      "metadata": {
        "deletable": true,
        "editable": true,
        "id": "WorPVRFacG_5"
      },
      "source": [
        "import pickle \n",
        "\n",
        "with open('d:/Users/Asus/Desktop/DataScience/models/sentiment_classifier.pkl', 'wb') as f:\n",
        "    pickle.dump(clf_svm,f)\n"
      ],
      "execution_count": null,
      "outputs": []
    },
    {
      "cell_type": "markdown",
      "metadata": {
        "collapsed": true,
        "deletable": true,
        "editable": true,
        "id": "tJGELM34cG_5"
      },
      "source": [
        "#### Load Model "
      ]
    },
    {
      "cell_type": "code",
      "metadata": {
        "deletable": true,
        "editable": true,
        "id": "C-wSeMb8cG_6"
      },
      "source": [
        "with open('d:/Users/Asus/Desktop/DataScience/models/sentiment_classifier.pkl','rb' ) as f:\n",
        "    loaded_clf =pickle.load(f)"
      ],
      "execution_count": null,
      "outputs": []
    },
    {
      "cell_type": "code",
      "metadata": {
        "id": "SjE1b0QocG_6",
        "outputId": "7512b6fe-c56e-494e-e2c5-22883071064c"
      },
      "source": [
        "print(test_x[0])\n",
        "loaded_clf.predict(test_x_vectors[0])"
      ],
      "execution_count": null,
      "outputs": [
        {
          "name": "stdout",
          "output_type": "stream",
          "text": [
            "First of all, this book needs some serious editing.  This book probably should not have been sold in it's  current version.  The story itself is a little unbelievable.  Billionaire brothers who beat up their fathers don't exist in most people's lives.  The storyline or what I could make out to be the storyline is really weak.  Save your money.\n"
          ]
        },
        {
          "data": {
            "text/plain": [
              "array(['NEGATIVE'],\n",
              "      dtype='<U8')"
            ]
          },
          "execution_count": 92,
          "metadata": {},
          "output_type": "execute_result"
        }
      ]
    },
    {
      "cell_type": "code",
      "metadata": {
        "collapsed": true,
        "id": "B0pUIL45cG_6"
      },
      "source": [
        ""
      ],
      "execution_count": null,
      "outputs": []
    }
  ]
}